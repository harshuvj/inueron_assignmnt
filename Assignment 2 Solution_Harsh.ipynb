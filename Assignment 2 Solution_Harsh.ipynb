{
 "cells": [
  {
   "attachments": {},
   "cell_type": "markdown",
   "metadata": {},
   "source": [
    "## 1) Write a program which accepts a sequence of comma-separated numbers from console and generate a list. "
   ]
  },
  {
   "cell_type": "markdown",
   "metadata": {},
   "source": [
    "### Answer:"
   ]
  },
  {
   "cell_type": "code",
   "execution_count": 1,
   "metadata": {},
   "outputs": [
    {
     "name": "stdout",
     "output_type": "stream",
     "text": [
      "Enter numbers seperated by a comm delimeter :4,6,7,8,2\n",
      "User Entered numbers stored in Final list and this list is : [4, 6, 7, 8, 2] \n",
      "\n"
     ]
    }
   ],
   "source": [
    "user_list = input('Enter numbers seperated by a comm delimeter :')\n",
    "user_list1 = user_list.split(',')\n",
    "final_list = list()\n",
    "\n",
    "for i in user_list1:\n",
    "    final_list.append(int(i))\n",
    "    \n",
    "print(f'User Entered numbers stored in Final list and this list is : {final_list} \\n')"
   ]
  },
  {
   "cell_type": "markdown",
   "metadata": {},
   "source": [
    "----"
   ]
  },
  {
   "attachments": {
    "image.png": {
     "image/png": "[encoded data removed]"
    }
   },
   "cell_type": "markdown",
   "metadata": {},
   "source": [
    "## 2) Create the below pattern using nested for loop in Python.\n",
    "\n",
    "\n",
    "   ![image.png](attachment:image.png)"
   ]
  },
  {
   "cell_type": "markdown",
   "metadata": {},
   "source": [
    "### Answer"
   ]
  },
  {
   "cell_type": "code",
   "execution_count": 2,
   "metadata": {
    "scrolled": true
   },
   "outputs": [
    {
     "name": "stdout",
     "output_type": "stream",
     "text": [
      " \n",
      "* \n",
      "** \n",
      "*** \n",
      "**** \n",
      "*****\n",
      "****\n",
      "***\n",
      "**\n",
      "*\n"
     ]
    }
   ],
   "source": [
    "#store value of n for creating range\n",
    "\n",
    "n = 5\n",
    "\n",
    "#outer for loop to initialise the sequence\n",
    "for i in range(n):\n",
    "    for j in range(i): #innner for loop to print pattern\n",
    "        print('*',end='')\n",
    "    print(' ')\n",
    "    \n",
    "#for loop for decreasing print sequencce\n",
    "\n",
    "for i in range(n,0,-1):\n",
    "    for j in range(i): #inner for loop to print patter\n",
    "        print('*',end='')\n",
    "    print('')"
   ]
  },
  {
   "cell_type": "markdown",
   "metadata": {},
   "source": [
    " ----"
   ]
  },
  {
   "cell_type": "markdown",
   "metadata": {},
   "source": [
    "## 3.Write a Python program to reverse a word after accepting the input from the user."
   ]
  },
  {
   "cell_type": "markdown",
   "metadata": {},
   "source": [
    "### Answer: "
   ]
  },
  {
   "cell_type": "code",
   "execution_count": 3,
   "metadata": {},
   "outputs": [
    {
     "name": "stdout",
     "output_type": "stream",
     "text": [
      "Enter you string: \n",
      "ineuron\n",
      "Revers of your string is: \n",
      "norueni \n"
     ]
    }
   ],
   "source": [
    "#Accet you string\n",
    "user_input = input('Enter you string: \\n')\n",
    "\n",
    "#use slicing concept to reverse the string\n",
    "string_reverse = user_input[::-1]\n",
    "\n",
    "print(f'Revers of your string is: \\n{string_reverse} ')\n",
    "\n",
    "\n",
    "\n"
   ]
  }
 ],
 "metadata": {
  "kernelspec": {
   "display_name": "Python 3",
   "language": "python",
   "name": "python3"
  },
  "language_info": {
   "codemirror_mode": {
    "name": "ipython",
    "version": 3
   },
   "file_extension": ".py",
   "mimetype": "text/x-python",
   "name": "python",
   "nbconvert_exporter": "python",
   "pygments_lexer": "ipython3",
   "version": "3.8.5"
  }
 },
 "nbformat": 4,
 "nbformat_minor": 4
}
